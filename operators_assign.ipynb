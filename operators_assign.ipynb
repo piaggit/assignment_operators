{
 "cells": [
  {
   "cell_type": "code",
   "execution_count": 14,
   "id": "a86c5841-8edc-493e-8273-03f58c6e17b2",
   "metadata": {},
   "outputs": [
    {
     "name": "stdin",
     "output_type": "stream",
     "text": [
      "Enter operator +\n"
     ]
    },
    {
     "name": "stdout",
     "output_type": "stream",
     "text": [
      "9\n"
     ]
    }
   ],
   "source": [
    "#Calculate the sum, difference, product, and quotient of two numbers.\n",
    "\n",
    "a= 5\n",
    "b=4\n",
    "opr=input (\"Enter operator\")\n",
    "if (opr=='+'):\n",
    "    print(a+b)\n",
    "elif (opr=='-'):\n",
    "    print(a-b)\n",
    "elif (opr=='*'):\n",
    "    print(a*b)\n",
    "elif (opr=='%'):\n",
    "    print(a%b)\n",
    "else: \n",
    "    print(\"Incorrect operator\")"
   ]
  },
  {
   "cell_type": "code",
   "execution_count": 4,
   "id": "599942fc-a76b-4f28-8673-41a2d1fae922",
   "metadata": {},
   "outputs": [
    {
     "name": "stdin",
     "output_type": "stream",
     "text": [
      "Enter operator +\n"
     ]
    },
    {
     "name": "stdout",
     "output_type": "stream",
     "text": [
      "The result is 8\n"
     ]
    }
   ],
   "source": [
    "#Perform various assignment operations on a variable.\n",
    "a= 5\n",
    "\n",
    "opr=input (\"Enter operator\")\n",
    "if (opr=='+'):\n",
    "    a+=3\n",
    "    print(\"The result is\",a)\n",
    "elif (opr=='-'):\n",
    "    a-=3\n",
    "    print(\"The result is\",a)\n",
    "elif (opr=='*'):\n",
    "    a*=2\n",
    "    print(\"The result is\",a)\n",
    "elif (opr=='%'):\n",
    "    a%=3\n",
    "    print(\"The result is\",a)\n",
    "else:\n",
    "       print(\"Invalid operator\")\n",
    "   \n"
   ]
  },
  {
   "cell_type": "code",
   "execution_count": 19,
   "id": "d43c376b-ec34-40cd-970e-79daa8975e34",
   "metadata": {},
   "outputs": [
    {
     "name": "stdout",
     "output_type": "stream",
     "text": [
      "y is greater\n"
     ]
    }
   ],
   "source": [
    "#Compare two numbers and print the results.\n",
    "x=71\n",
    "y=76\n",
    "if(x>y):\n",
    "    print(\"x is greater\")\n",
    "else:\n",
    "    print(\"y is greater\")\n"
   ]
  },
  {
   "cell_type": "code",
   "execution_count": null,
   "id": "6378d1c1-4d99-41bc-9191-f5da8656317d",
   "metadata": {},
   "outputs": [],
   "source": [
    "#Check conditions using logical operators.\n",
    "\n",
    "a= int(input(\"Enter the mark of mid sem\"))\n",
    "b= int(input(\"Enter the mark of end sem\"))\n",
    "if (a>=60) and (b>=60):\n",
    "    print (\"You are promoted\")\n",
    "elif (a<60) or (b<60):\n",
    "    print (\"You are not promoted\")\n",
    "elif (a!=b):\n",
    "    print (\"You graded will be the average of both the sems\")   \n",
    "\n"
   ]
  },
  {
   "cell_type": "code",
   "execution_count": 13,
   "id": "c94c9a82-3124-4e0e-938c-b9e3d76e801e",
   "metadata": {},
   "outputs": [
    {
     "name": "stdin",
     "output_type": "stream",
     "text": [
      "Enter the value for 1st variable 6\n",
      "Enter the value for 2nd variable 8\n"
     ]
    },
    {
     "data": {
      "text/plain": [
       "False"
      ]
     },
     "execution_count": 13,
     "metadata": {},
     "output_type": "execute_result"
    }
   ],
   "source": [
    "#Check the identity of variables.\n",
    "\n",
    "a= int(input(\"Enter the value for 1st variable\"))\n",
    "b= int(input(\"Enter the value for 2nd variable\"))\n",
    "\n",
    "a is b "
   ]
  },
  {
   "cell_type": "code",
   "execution_count": 8,
   "id": "0d367b57-c87f-4f01-8a1d-d1ee4e553c1c",
   "metadata": {},
   "outputs": [
    {
     "name": "stdin",
     "output_type": "stream",
     "text": [
      "Enter the 1st integer 2\n",
      "Enter the 2nd integer 3\n"
     ]
    },
    {
     "data": {
      "text/plain": [
       "2"
      ]
     },
     "execution_count": 8,
     "metadata": {},
     "output_type": "execute_result"
    }
   ],
   "source": [
    "#Perform bitwise operations on any two integers.\n",
    "\n",
    "a= int(input(\"Enter the 1st integer\"))\n",
    "b= int(input(\"Enter the 2nd integer\"))\n",
    "\n",
    "a & b"
   ]
  },
  {
   "cell_type": "code",
   "execution_count": 24,
   "id": "5d5f5904-7184-4fbf-aa79-a8a3629b94af",
   "metadata": {},
   "outputs": [
    {
     "data": {
      "text/plain": [
       "-6"
      ]
     },
     "execution_count": 24,
     "metadata": {},
     "output_type": "execute_result"
    }
   ],
   "source": [
    "#Use unary operators to change the sign of a number.\n",
    "~5"
   ]
  },
  {
   "cell_type": "code",
   "execution_count": 2,
   "id": "d7a4eaae-303a-4941-b06b-8df3c0a1cb65",
   "metadata": {},
   "outputs": [
    {
     "name": "stdin",
     "output_type": "stream",
     "text": [
      "What day is today: Saturday\n"
     ]
    },
    {
     "name": "stdout",
     "output_type": "stream",
     "text": [
      "Its a holiday :)\n"
     ]
    }
   ],
   "source": [
    "#Use the ternary operator to assign values based on conditions.\n",
    "\n",
    "day= str(input(\"What day is today:\"))\n",
    "if day==\"Sunday\" or day== \"Saturday\":\n",
    "    print(\"Its a holiday :)\")\n",
    "else: \n",
    "    print(\"No holiday today :(\")"
   ]
  }
 ],
 "metadata": {
  "kernelspec": {
   "display_name": "Python 3 (ipykernel)",
   "language": "python",
   "name": "python3"
  },
  "language_info": {
   "codemirror_mode": {
    "name": "ipython",
    "version": 3
   },
   "file_extension": ".py",
   "mimetype": "text/x-python",
   "name": "python",
   "nbconvert_exporter": "python",
   "pygments_lexer": "ipython3",
   "version": "3.10.8"
  }
 },
 "nbformat": 4,
 "nbformat_minor": 5
}
